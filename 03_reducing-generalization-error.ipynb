{
 "cells": [
  {
   "cell_type": "raw",
   "id": "ec37788a-8092-4835-b93b-2a5ae537730d",
   "metadata": {},
   "source": [
    "---\n",
    "title: Reducing Generalization Error\n",
    "author: DSCI 571 - Supervised Learning I\n",
    "format: html\n",
    "keep-ipynb: true\n",
    "---"
   ]
  },
  {
   "cell_type": "markdown",
   "id": "0b6cf04d-960d-4481-baef-0cfeeb733396",
   "metadata": {},
   "source": [
    "## Purpose"
   ]
  },
  {
   "cell_type": "markdown",
   "id": "20812cce-4e33-4316-a038-6697af93b8ca",
   "metadata": {},
   "source": [
    "**Fundamental goal of ML: To generalize beyond what we see in the training samples**\n",
    "\n",
    "We often have access to only limited amount of training data, but we want to learn a mapping function which would predicts target reasonably well beyond that training data\n",
    "\n",
    "<font color='red'>However, it's impossible to access generalization error in practice!</font>\n",
    "\n",
    "Solution (a common way): To reduce and approximate this error by **Data Splitting**"
   ]
  },
  {
   "cell_type": "markdown",
   "id": "397fb7f5-91ac-4743-816f-6a5a4b912c3b",
   "metadata": {},
   "source": [
    "## How?"
   ]
  },
  {
   "cell_type": "markdown",
   "id": "b505463a-dbd4-4b07-9fe1-115f98053861",
   "metadata": {},
   "source": [
    "### 80%-20% train-test split\n",
    "![](imgs/train-test-split.png)"
   ]
  },
  {
   "cell_type": "code",
   "execution_count": 5,
   "id": "ca4ca237-cae2-478e-9291-5b70febdd7cb",
   "metadata": {},
   "outputs": [
    {
     "data": {
      "text/html": [
       "<div>\n",
       "<style scoped>\n",
       "    .dataframe tbody tr th:only-of-type {\n",
       "        vertical-align: middle;\n",
       "    }\n",
       "\n",
       "    .dataframe tbody tr th {\n",
       "        vertical-align: top;\n",
       "    }\n",
       "\n",
       "    .dataframe thead th {\n",
       "        text-align: right;\n",
       "    }\n",
       "</style>\n",
       "<table border=\"1\" class=\"dataframe\">\n",
       "  <thead>\n",
       "    <tr style=\"text-align: right;\">\n",
       "      <th></th>\n",
       "      <th>longitude</th>\n",
       "      <th>latitude</th>\n",
       "      <th>country</th>\n",
       "    </tr>\n",
       "  </thead>\n",
       "  <tbody>\n",
       "    <tr>\n",
       "      <th>0</th>\n",
       "      <td>-130.0437</td>\n",
       "      <td>55.9773</td>\n",
       "      <td>USA</td>\n",
       "    </tr>\n",
       "    <tr>\n",
       "      <th>1</th>\n",
       "      <td>-134.4197</td>\n",
       "      <td>58.3019</td>\n",
       "      <td>USA</td>\n",
       "    </tr>\n",
       "    <tr>\n",
       "      <th>2</th>\n",
       "      <td>-123.0780</td>\n",
       "      <td>48.9854</td>\n",
       "      <td>USA</td>\n",
       "    </tr>\n",
       "    <tr>\n",
       "      <th>3</th>\n",
       "      <td>-122.7436</td>\n",
       "      <td>48.9881</td>\n",
       "      <td>USA</td>\n",
       "    </tr>\n",
       "    <tr>\n",
       "      <th>4</th>\n",
       "      <td>-122.2691</td>\n",
       "      <td>48.9951</td>\n",
       "      <td>USA</td>\n",
       "    </tr>\n",
       "    <tr>\n",
       "      <th>...</th>\n",
       "      <td>...</td>\n",
       "      <td>...</td>\n",
       "      <td>...</td>\n",
       "    </tr>\n",
       "    <tr>\n",
       "      <th>204</th>\n",
       "      <td>-72.7218</td>\n",
       "      <td>45.3990</td>\n",
       "      <td>Canada</td>\n",
       "    </tr>\n",
       "    <tr>\n",
       "      <th>205</th>\n",
       "      <td>-66.6458</td>\n",
       "      <td>45.9664</td>\n",
       "      <td>Canada</td>\n",
       "    </tr>\n",
       "    <tr>\n",
       "      <th>206</th>\n",
       "      <td>-79.2506</td>\n",
       "      <td>42.9931</td>\n",
       "      <td>Canada</td>\n",
       "    </tr>\n",
       "    <tr>\n",
       "      <th>207</th>\n",
       "      <td>-72.9406</td>\n",
       "      <td>45.6275</td>\n",
       "      <td>Canada</td>\n",
       "    </tr>\n",
       "    <tr>\n",
       "      <th>208</th>\n",
       "      <td>-79.4608</td>\n",
       "      <td>46.3092</td>\n",
       "      <td>Canada</td>\n",
       "    </tr>\n",
       "  </tbody>\n",
       "</table>\n",
       "<p>209 rows × 3 columns</p>\n",
       "</div>"
      ],
      "text/plain": [
       "     longitude  latitude country\n",
       "0    -130.0437   55.9773     USA\n",
       "1    -134.4197   58.3019     USA\n",
       "2    -123.0780   48.9854     USA\n",
       "3    -122.7436   48.9881     USA\n",
       "4    -122.2691   48.9951     USA\n",
       "..         ...       ...     ...\n",
       "204   -72.7218   45.3990  Canada\n",
       "205   -66.6458   45.9664  Canada\n",
       "206   -79.2506   42.9931  Canada\n",
       "207   -72.9406   45.6275  Canada\n",
       "208   -79.4608   46.3092  Canada\n",
       "\n",
       "[209 rows x 3 columns]"
      ]
     },
     "execution_count": 5,
     "metadata": {},
     "output_type": "execute_result"
    }
   ],
   "source": [
    "#| code-summary: prepare `df`\n",
    "#| code-fold: true\n",
    "import pandas as pd\n",
    "\n",
    "df = pd.read_csv(\"data/canada_usa_cities.csv\")\n",
    "df"
   ]
  },
  {
   "cell_type": "code",
   "execution_count": 8,
   "id": "b4e73c8f-bb3a-4e4a-8ebc-7fba69afce2c",
   "metadata": {},
   "outputs": [],
   "source": [
    "from sklearn.model_selection import train_test_split\n",
    "df_1 = df.copy()\n",
    "y, X = df_1.pop(\"country\"), df_1\n",
    "\n",
    "X_train, X_test, y_train, y_test = train_test_split(\n",
    "    X, y, test_size=0.2, random_state=123\n",
    ")"
   ]
  },
  {
   "cell_type": "code",
   "execution_count": 9,
   "id": "fbb296c8-5693-422e-b527-783976d4f1ed",
   "metadata": {},
   "outputs": [],
   "source": [
    "#| code-summary: alternative method (in case of performing exploratory data analysis or visualization on the `df_train`)\n",
    "#| code-fold: true\n",
    "\n",
    "df_train, df_test = train_test_split(\n",
    "    df, test_size=0.2, random_state=123\n",
    ")\n",
    "# # or, via train_size,\n",
    "# df_train, df_test = train_test_split(\n",
    "#     df, train_size=0.8, random_state=123\n",
    "# )\n",
    "\n",
    "y_train, X_train = df_train.pop(\"country\"), df_train\n",
    "y_test, X_test = df_test.pop(\"country\"), df_test"
   ]
  },
  {
   "cell_type": "code",
   "execution_count": 11,
   "id": "aa23ed33-f757-4c6c-abb9-ba16ad78880e",
   "metadata": {},
   "outputs": [
    {
     "data": {
      "text/plain": [
       "Text(0, 0.5, 'latitude')"
      ]
     },
     "execution_count": 11,
     "metadata": {},
     "output_type": "execute_result"
    },
    {
     "data": {
      "image/png": "[encoded data removed]",
      "text/plain": [
       "<Figure size 640x480 with 1 Axes>"
      ]
     },
     "metadata": {},
     "output_type": "display_data"
    }
   ],
   "source": [
    "#| code-summary: visualize training data\n",
    "#| code-fold: true\n",
    "import mglearn\n",
    "import matplotlib.pyplot as plt\n",
    "\n",
    "mglearn.discrete_scatter(X_train['longitude'], X_train['latitude'], y_train, s=12)\n",
    "plt.xlabel('longitude')\n",
    "plt.ylabel('latitude')"
   ]
  },
  {
   "cell_type": "code",
   "execution_count": 21,
   "id": "97d3671f-f747-4f0d-b01e-d38202ddb556",
   "metadata": {},
   "outputs": [
    {
     "name": "stdout",
     "output_type": "stream",
     "text": [
      "Train accuracy: 1.0\n",
      "Test accuracy: 0.738\n"
     ]
    }
   ],
   "source": [
    "#| code-summary: train model and calculate scores (e.g. DecisionTreeClassifier)\n",
    "#| code-fold: False\n",
    "from sklearn.tree import DecisionTreeClassifier\n",
    "\n",
    "clf = DecisionTreeClassifier()\n",
    "clf.fit(X_train, y_train)\n",
    "\n",
    "print(f\"Train accuracy: {round(clf.score(X_train, y_train), 3)}\")\n",
    "print(f\"Test accuracy: {round(clf.score(X_test, y_test), 3)}\") # ~ generalization error"
   ]
  },
  {
   "cell_type": "markdown",
   "id": "7d3b8ec4-7686-4f5d-ab88-b73aefe75f74",
   "metadata": {},
   "source": [
    "#### Cons"
   ]
  },
  {
   "cell_type": "markdown",
   "id": "1f4609b2-f47d-4d6c-b236-10b38923026f",
   "metadata": {},
   "source": [
    " - Approximated the generalization error, but not reduced yet.\n",
    " - We have built a perfect model on training data, but our model is not able to generalize well on the testing data!"
   ]
  },
  {
   "cell_type": "markdown",
   "id": "73a6fbef-d4e7-478a-865b-df266ea331f1",
   "metadata": {},
   "source": [
    "### Train-validation-test split\n",
    " - We train our model using train split\n",
    " - And score it using validation split\n",
    " - If the score is not good, then we train another model using train split and score it again using validation split\n",
    " - Repeat the process until reaching a satisfactory score in the validation split (i.e. hyperparameter tuning)\n",
    " - Test the model once to examine the generalization\n",
    "![](imgs/train-valid-test-split.png)\n",
    "\n",
    "|         | `fit` | `score` | `predict` |\n",
    "|----------|-------|---------|-----------|\n",
    "| Train    | ✔️      | ✔️      | ✔️         |\n",
    "| Validation |      | ✔️      | ✔️         |\n",
    "| Test    |       |  once   | once         |\n",
    "| Deployment    |       |       | ✔️         |"
   ]
  },
  {
   "cell_type": "code",
   "execution_count": 29,
   "id": "8cbcf55e-7439-45d4-aac2-cbda90735bb9",
   "metadata": {},
   "outputs": [
    {
     "name": "stdout",
     "output_type": "stream",
     "text": [
      "Validation accuracy (max_depth=1): 0.81\n",
      "Validation accuracy (max_depth=2): 0.81\n",
      "Validation accuracy (max_depth=3): 0.833\n",
      "Validation accuracy (max_depth=4): 0.833\n",
      "Validation accuracy (max_depth=5): 0.905\n",
      "Validation accuracy (max_depth=6): 0.881\n",
      "Test accuracy: 0.762\n"
     ]
    }
   ],
   "source": [
    "from sklearn.model_selection import train_test_split\n",
    "from sklearn.tree import DecisionTreeClassifier # example\n",
    "\n",
    "# data split\n",
    "df_train, df_test = train_test_split(\n",
    "    df, test_size=0.2, random_state=123\n",
    ")\n",
    "df_train, df_validation = train_test_split(\n",
    "    df_train, test_size=0.25, random_state=123\n",
    ")\n",
    "\n",
    "y_train, X_train = df_train.pop(\"country\"), df_train\n",
    "y_validation, X_validation = df_validation.pop(\"country\"), df_validation\n",
    "y_test, X_test = df_test.pop(\"country\"), df_test\n",
    "\n",
    "# (iteratively) train model and score\n",
    "for depth in range(1, 7):\n",
    "    clf = DecisionTreeClassifier(max_depth=depth)\n",
    "    clf.fit(X_train, y_train)\n",
    "\n",
    "    #print(f\"Train accuracy (max_depth={depth}): {round(clf.score(X_train, y_train), 3)}\")\n",
    "    print(f\"Validation accuracy (max_depth={depth}): {round(clf.score(X_validation, y_validation), 3)}\")\n",
    "\n",
    "# test model\n",
    "clf = DecisionTreeClassifier(max_depth=5)\n",
    "clf.fit(X_train, y_train)\n",
    "print(f\"Test accuracy: {round(clf.score(X_test, y_test), 3)}\") # ~ generalization error"
   ]
  },
  {
   "cell_type": "markdown",
   "id": "bf75086b-e852-4c06-b5d4-558ca51bf939",
   "metadata": {},
   "source": [
    "We typically expect $E_{train} < E_{validation} < E_{test} < E_{deployment}$."
   ]
  },
  {
   "cell_type": "markdown",
   "id": "18e34ee4-eace-4e18-95c0-b2adf6386200",
   "metadata": {},
   "source": [
    "#### Pros\n",
    "\n",
    " - Able to reduce and approximate generalization error\n",
    " - Much better than Train-test split, in which we have only examined the training accuracy before looking at testing."
   ]
  },
  {
   "cell_type": "markdown",
   "id": "6327ecce-af63-48c6-a72c-c77a6a457fd7",
   "metadata": {},
   "source": [
    "#### Cons\n",
    "\n",
    " - If the data set is small, then the validation set will be tiny and will not be a good representative of testing set."
   ]
  },
  {
   "cell_type": "markdown",
   "id": "a62cd9b1-dd13-45f9-ac92-196322f89735",
   "metadata": {},
   "source": [
    "### Cross-validation\n",
    " - Split the training data into k-fold\n",
    " - Each \"fold\" takes turn to be a validation set\n",
    " - Validation score statistics = mean/variance of each cross-validation score (scores across folds)\n",
    "![](imgs/cross-validation.png)"
   ]
  },
  {
   "cell_type": "markdown",
   "id": "12c210d7-81c2-4f5e-badd-f166ef42551d",
   "metadata": {},
   "source": [
    "#### training and validation"
   ]
  },
  {
   "cell_type": "code",
   "execution_count": 51,
   "id": "b7ede93b-2243-4eee-a9a7-a797cf70985d",
   "metadata": {},
   "outputs": [
    {
     "data": {
      "text/html": [
       "<div>\n",
       "<style scoped>\n",
       "    .dataframe tbody tr th:only-of-type {\n",
       "        vertical-align: middle;\n",
       "    }\n",
       "\n",
       "    .dataframe tbody tr th {\n",
       "        vertical-align: top;\n",
       "    }\n",
       "\n",
       "    .dataframe thead th {\n",
       "        text-align: right;\n",
       "    }\n",
       "</style>\n",
       "<table border=\"1\" class=\"dataframe\">\n",
       "  <thead>\n",
       "    <tr style=\"text-align: right;\">\n",
       "      <th></th>\n",
       "      <th>fit_time</th>\n",
       "      <th>score_time</th>\n",
       "      <th>test_score</th>\n",
       "      <th>train_score</th>\n",
       "    </tr>\n",
       "  </thead>\n",
       "  <tbody>\n",
       "    <tr>\n",
       "      <th>0</th>\n",
       "      <td>0.002524</td>\n",
       "      <td>0.002084</td>\n",
       "      <td>0.764706</td>\n",
       "      <td>0.913333</td>\n",
       "    </tr>\n",
       "    <tr>\n",
       "      <th>1</th>\n",
       "      <td>0.002855</td>\n",
       "      <td>0.002135</td>\n",
       "      <td>0.823529</td>\n",
       "      <td>0.906667</td>\n",
       "    </tr>\n",
       "    <tr>\n",
       "      <th>2</th>\n",
       "      <td>0.001225</td>\n",
       "      <td>0.000673</td>\n",
       "      <td>0.705882</td>\n",
       "      <td>0.906667</td>\n",
       "    </tr>\n",
       "    <tr>\n",
       "      <th>3</th>\n",
       "      <td>0.001533</td>\n",
       "      <td>0.000713</td>\n",
       "      <td>0.941176</td>\n",
       "      <td>0.900000</td>\n",
       "    </tr>\n",
       "    <tr>\n",
       "      <th>4</th>\n",
       "      <td>0.000889</td>\n",
       "      <td>0.000631</td>\n",
       "      <td>0.823529</td>\n",
       "      <td>0.906667</td>\n",
       "    </tr>\n",
       "    <tr>\n",
       "      <th>5</th>\n",
       "      <td>0.000849</td>\n",
       "      <td>0.000594</td>\n",
       "      <td>0.823529</td>\n",
       "      <td>0.913333</td>\n",
       "    </tr>\n",
       "    <tr>\n",
       "      <th>6</th>\n",
       "      <td>0.001619</td>\n",
       "      <td>0.000639</td>\n",
       "      <td>0.705882</td>\n",
       "      <td>0.920000</td>\n",
       "    </tr>\n",
       "    <tr>\n",
       "      <th>7</th>\n",
       "      <td>0.001016</td>\n",
       "      <td>0.000566</td>\n",
       "      <td>0.937500</td>\n",
       "      <td>0.900662</td>\n",
       "    </tr>\n",
       "    <tr>\n",
       "      <th>8</th>\n",
       "      <td>0.000744</td>\n",
       "      <td>0.000459</td>\n",
       "      <td>0.937500</td>\n",
       "      <td>0.900662</td>\n",
       "    </tr>\n",
       "    <tr>\n",
       "      <th>9</th>\n",
       "      <td>0.000704</td>\n",
       "      <td>0.000463</td>\n",
       "      <td>0.937500</td>\n",
       "      <td>0.900662</td>\n",
       "    </tr>\n",
       "  </tbody>\n",
       "</table>\n",
       "</div>"
      ],
      "text/plain": [
       "   fit_time  score_time  test_score  train_score\n",
       "0  0.002524    0.002084    0.764706     0.913333\n",
       "1  0.002855    0.002135    0.823529     0.906667\n",
       "2  0.001225    0.000673    0.705882     0.906667\n",
       "3  0.001533    0.000713    0.941176     0.900000\n",
       "4  0.000889    0.000631    0.823529     0.906667\n",
       "5  0.000849    0.000594    0.823529     0.913333\n",
       "6  0.001619    0.000639    0.705882     0.920000\n",
       "7  0.001016    0.000566    0.937500     0.900662\n",
       "8  0.000744    0.000459    0.937500     0.900662\n",
       "9  0.000704    0.000463    0.937500     0.900662"
      ]
     },
     "execution_count": 51,
     "metadata": {},
     "output_type": "execute_result"
    }
   ],
   "source": [
    "from sklearn.model_selection import cross_validate\n",
    "from sklearn.tree import DecisionTreeClassifier # example\n",
    "\n",
    "# data split\n",
    "df_train, df_test = train_test_split(\n",
    "    df, test_size=0.2, random_state=123\n",
    ")\n",
    "y_train, X_train = df_train.pop(\"country\"), df_train\n",
    "y_test, X_test = df_test.pop(\"country\"), df_test\n",
    "\n",
    "# train model and score\n",
    "clf = DecisionTreeClassifier(max_depth=4)\n",
    "\n",
    "scores = cross_validate(clf, X_train, y_train, cv=10, return_train_score=True) # is a dictionary\n",
    "pd.DataFrame(scores)"
   ]
  },
  {
   "cell_type": "code",
   "execution_count": 52,
   "id": "1f739cd2-8190-43d4-937a-f0da50332596",
   "metadata": {},
   "outputs": [
    {
     "name": "stdout",
     "output_type": "stream",
     "text": [
      "Average cv scores: 0.84\n",
      "SD of cv scores: 0.09\n"
     ]
    }
   ],
   "source": [
    "print(f\"Average cv scores: {round(scores['test_score'].mean(), 2)}\")\n",
    "print(f\"SD of cv scores: {round(scores['test_score'].var()**0.5, 2)}\")"
   ]
  },
  {
   "cell_type": "markdown",
   "id": "af32c3c6-27f1-4e25-ae21-bc50e9ceddd5",
   "metadata": {},
   "source": [
    "#### training, validation and testing"
   ]
  },
  {
   "cell_type": "code",
   "execution_count": 50,
   "id": "cff7e4b7-5b97-4b31-9051-53caf4d5f2cf",
   "metadata": {},
   "outputs": [
    {
     "name": "stdout",
     "output_type": "stream",
     "text": [
      "Average cv scores (max_depth=1): 0.81\n",
      "SD of cv scores (max_depth=1): 0.085\n",
      "\n",
      "Average cv scores (max_depth=2): 0.804\n",
      "SD of cv scores (max_depth=2): 0.086\n",
      "\n",
      "Average cv scores (max_depth=3): 0.804\n",
      "SD of cv scores (max_depth=3): 0.09\n",
      "\n",
      "Average cv scores (max_depth=4): 0.84\n",
      "SD of cv scores (max_depth=4): 0.09\n",
      "\n",
      "Average cv scores (max_depth=5): 0.846\n",
      "SD of cv scores (max_depth=5): 0.083\n",
      "\n",
      "Average cv scores (max_depth=6): 0.815\n",
      "SD of cv scores (max_depth=6): 0.061\n",
      "\n",
      "Test accuracy: 0.833\n"
     ]
    }
   ],
   "source": [
    "from sklearn.model_selection import cross_validate\n",
    "from sklearn.tree import DecisionTreeClassifier # example\n",
    "\n",
    "# data split\n",
    "df_train, df_test = train_test_split(\n",
    "    df, test_size=0.2, random_state=123\n",
    ")\n",
    "y_train, X_train = df_train.pop(\"country\"), df_train\n",
    "y_test, X_test = df_test.pop(\"country\"), df_test\n",
    "\n",
    "# (iteratively) train model and score\n",
    "for depth in range(1, 7):\n",
    "    clf = DecisionTreeClassifier(max_depth=depth)\n",
    "    \n",
    "    scores = cross_validate(clf, X_train, y_train, cv=10, return_train_score=True) # is a dictionary\n",
    "\n",
    "    print(f\"Average cv scores (max_depth={depth}): {round(scores['test_score'].mean(), 3)}\")\n",
    "    print(f\"SD of cv scores (max_depth={depth}): {round(scores['test_score'].var()**0.5, 3)}\\n\")\n",
    "\n",
    "# test model\n",
    "clf = DecisionTreeClassifier(max_depth=5)\n",
    "clf.fit(X_train, y_train)\n",
    "print(f\"Test accuracy: {round(clf.score(X_test, y_test), 3)}\") # ~ generalization error, comparable to cv error"
   ]
  },
  {
   "cell_type": "markdown",
   "id": "dca3cff3-c15c-49b9-b44e-ee0b522ba425",
   "metadata": {},
   "source": [
    "#### Pros\n",
    "\n",
    " - More powerful, also applied to small data set!\n",
    " - Able to examine the variation in the scores across folds\n",
    " - Give a more robust estimate of error on unseen data"
   ]
  },
  {
   "cell_type": "markdown",
   "id": "b3fa2109-1b57-4fca-b9fc-eb1d4959ca93",
   "metadata": {},
   "source": [
    "## Remarks\n",
    " - We use **test error** to approximate **generalization error** (or deployment error)\n",
    " - If the test error is \"reasonable\", we will deploy the model\n",
    " - We typically expect $E_{\\text{train}} < E_{\\text{validation}} < E_{\\text{test}} < E_{\\text{deployment}} < E_{\\text{best}}$."
   ]
  },
  {
   "cell_type": "markdown",
   "id": "4a32f6b8-c468-4087-aef2-4256b544c259",
   "metadata": {
    "jp-MarkdownHeadingCollapsed": true
   },
   "source": [
    "### What is underfitting?\n",
    " - The model is too simple\n",
    " - Both train and validation error are similarly high\n",
    " - $E_{\\text{best}} < E_{\\text{train}} \\lesssim E_{\\text{validation}}$"
   ]
  },
  {
   "cell_type": "markdown",
   "id": "3c1405e7-651c-4b0f-8619-708bc3eeada2",
   "metadata": {},
   "source": [
    "### What is overfitting?\n",
    " - The model is too complicated, and specified to training data only\n",
    " - Training error is too low, and a big gap exists between training and validation error\n",
    " - $E_{\\text{train}} < E_{\\text{best}} < E_{\\text{validation}}$"
   ]
  },
  {
   "cell_type": "markdown",
   "id": "7ed626e9-5474-472f-a46d-e509a63c45c1",
   "metadata": {},
   "source": [
    "### What is *Bias vs. Variance tradeoff*?\n",
    " - A fundamental tradeoff in supervised learning\n",
    "   - Complexity $\\uparrow$ $\\Rightarrow$ $E_\\text{train} \\downarrow$  **but**  $(E_\\text{validation} - E_\\text{train}) \\uparrow$\n",
    " - **Bias $\\Leftrightarrow$ Underfitting**: the tendency to consistently learn the same wrong thing\n",
    " - **Variance $\\Leftrightarrow$ Overfitting**: the tendency to learn random things irrespective of real signals\n",
    "\n",
    "![](imgs/malp_0201.png)\n",
    "[source](https://learning.oreilly.com/library/view/introduction-to-machine/9781449369880/ch02.html#relation-of-model-complexity-to-dataset-size)"
   ]
  },
  {
   "cell_type": "markdown",
   "id": "bc54c372-cb33-4d77-92c3-e755c21f7532",
   "metadata": {},
   "source": [
    "### Golden rule: The test data cannot influence the training phase in any way\n",
    " - To avoid breaking it, we always keep our testing set in an imaginary vault when we're splitting data"
   ]
  },
  {
   "cell_type": "code",
   "execution_count": null,
   "id": "b9dbaf3c-5680-4dfa-93f6-cd1c0ae7e5d5",
   "metadata": {},
   "outputs": [],
   "source": []
  }
 ],
 "metadata": {
  "kernelspec": {
   "display_name": "Python [conda env:571]",
   "language": "python",
   "name": "conda-env-571-py"
  },
  "language_info": {
   "codemirror_mode": {
    "name": "ipython",
    "version": 3
   },
   "file_extension": ".py",
   "mimetype": "text/x-python",
   "name": "python",
   "nbconvert_exporter": "python",
   "pygments_lexer": "ipython3",
   "version": "3.11.6"
  }
 },
 "nbformat": 4,
 "nbformat_minor": 5
}
